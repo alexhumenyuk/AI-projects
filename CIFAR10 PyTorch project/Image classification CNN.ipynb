{
 "cells": [
  {
   "cell_type": "code",
   "execution_count": 99,
   "metadata": {},
   "outputs": [
    {
     "data": {
      "text/html": [
       "\n",
       "<div style=\"background-color: white; padding: 10px;\">\n",
       "    <iframe src=\"https://www.cs.toronto.edu/~kriz/cifar.html#:~:text=The%20CIFAR-10%20dataset%20consists%20of%2060000\" width=\"1800\" height=\"600\" style=\"border: none;\"></iframe>\n",
       "</div>\n"
      ],
      "text/plain": [
       "<IPython.core.display.HTML object>"
      ]
     },
     "execution_count": 99,
     "metadata": {},
     "output_type": "execute_result"
    }
   ],
   "source": [
    "# \"The CIFAR-10 dataset consists of 60000 32x32 colour images in 10 classes, with 6000 images per class. There are 50000 training images and 10000 test images.\n",
    "# Here are the 10 classes in the dataset: airplane, automobile, bird, cat, deer, dog, frog, horse, ship, truck.\"\n",
    "\n",
    "from IPython.display import HTML\n",
    "url = \"https://www.cs.toronto.edu/~kriz/cifar.html#:~:text=The%20CIFAR-10%20dataset%20consists%20of%2060000\"\n",
    "# HTML code to embed the IFrame with a white background\n",
    "html_code = f\"\"\"\n",
    "<div style=\"background-color: white; padding: 10px;\">\n",
    "    <iframe src=\"{url}\" width=\"1800\" height=\"600\" style=\"border: none;\"></iframe>\n",
    "</div>\n",
    "\"\"\"\n",
    "# Display the HTML\n",
    "HTML(html_code)\n"
   ]
  },
  {
   "cell_type": "code",
   "execution_count": 2,
   "metadata": {},
   "outputs": [],
   "source": [
    "import torch\n",
    "import torch.nn as nn\n",
    "import torch.nn.functional as F # Activation and loss functions\n",
    "import torch.optim as optim # Optimization of loss functions\n",
    "\n",
    "import torchvision\n",
    "import torchvision.transforms as transforms # Image format modifications\n",
    "\n",
    "import numpy as np"
   ]
  },
  {
   "cell_type": "code",
   "execution_count": 3,
   "metadata": {},
   "outputs": [
    {
     "name": "stdout",
     "output_type": "stream",
     "text": [
      "Using device: cuda\n"
     ]
    }
   ],
   "source": [
    "#Check for GPU availability\n",
    "device = torch.device(\"cuda\" if torch.cuda.is_available() else \"cpu\")\n",
    "print(f\"Using device: {device}\")"
   ]
  },
  {
   "cell_type": "code",
   "execution_count": 4,
   "metadata": {},
   "outputs": [],
   "source": [
    "# Define the transformation to be applied to the images: each RGB channel from [0, 255] to [-1, 1]\n",
    "transform = transforms.Compose([\n",
    "\ttransforms.ToTensor(), # [0, 255] to tensor [0, 1] with each RGB channel\n",
    "\ttransforms.Normalize(mean = [0.5, 0.5, 0.5], std = [0.5, 0.5, 0.5]) # normalization from [0, 1] to [-1, 1]: normalized value = (input - mean)/SD; e.g. input == 0 -> (0 - 0.5)/0.5 = -1\n",
    "])"
   ]
  },
  {
   "cell_type": "code",
   "execution_count": null,
   "metadata": {},
   "outputs": [],
   "source": [
    "# Download and load the datasets\n",
    "train_set = torchvision.datasets.CIFAR10(root = \"./data\", train = True, transform = transform, download = True) # Dataset included in torchvision. Download and transform the images. \n",
    "test_set = torchvision.datasets.CIFAR10(root = \"./data\", train = False, transform = transform, download = True)\n",
    "\n",
    "train_loader = torch.utils.data.DataLoader(train_set, batch_size = 32, shuffle = True, num_workers = 2) # Divide the data in batches of 32 shuffled images with their corresponding labels. During training, we iterate over the batches, with data loading done by 2 worker processes in parallel\n",
    "test_loader = torch.utils.data.DataLoader(test_set, batch_size = 32, shuffle = True, num_workers = 2)"
   ]
  },
  {
   "cell_type": "code",
   "execution_count": 6,
   "metadata": {},
   "outputs": [
    {
     "name": "stdout",
     "output_type": "stream",
     "text": [
      "(tensor([[[-0.5373, -0.6627, -0.6078,  ...,  0.2392,  0.1922,  0.1608],\n",
      "         [-0.8745, -1.0000, -0.8588,  ..., -0.0353, -0.0667, -0.0431],\n",
      "         [-0.8039, -0.8745, -0.6157,  ..., -0.0745, -0.0588, -0.1451],\n",
      "         ...,\n",
      "         [ 0.6314,  0.5765,  0.5529,  ...,  0.2549, -0.5608, -0.5843],\n",
      "         [ 0.4118,  0.3569,  0.4588,  ...,  0.4431, -0.2392, -0.3490],\n",
      "         [ 0.3882,  0.3176,  0.4039,  ...,  0.6941,  0.1843, -0.0353]],\n",
      "\n",
      "        [[-0.5137, -0.6392, -0.6235,  ...,  0.0353, -0.0196, -0.0275],\n",
      "         [-0.8431, -1.0000, -0.9373,  ..., -0.3098, -0.3490, -0.3176],\n",
      "         [-0.8118, -0.9451, -0.7882,  ..., -0.3412, -0.3412, -0.4275],\n",
      "         ...,\n",
      "         [ 0.3333,  0.2000,  0.2627,  ...,  0.0431, -0.7569, -0.7333],\n",
      "         [ 0.0902, -0.0353,  0.1294,  ...,  0.1608, -0.5137, -0.5843],\n",
      "         [ 0.1294,  0.0118,  0.1137,  ...,  0.4431, -0.0745, -0.2784]],\n",
      "\n",
      "        [[-0.5059, -0.6471, -0.6627,  ..., -0.1529, -0.2000, -0.1922],\n",
      "         [-0.8431, -1.0000, -1.0000,  ..., -0.5686, -0.6078, -0.5529],\n",
      "         [-0.8353, -1.0000, -0.9373,  ..., -0.6078, -0.6078, -0.6706],\n",
      "         ...,\n",
      "         [-0.2471, -0.7333, -0.7961,  ..., -0.4510, -0.9451, -0.8431],\n",
      "         [-0.2471, -0.6706, -0.7647,  ..., -0.2627, -0.7333, -0.7333],\n",
      "         [-0.0902, -0.2627, -0.3176,  ...,  0.0980, -0.3412, -0.4353]]]), 6) \n",
      "\n",
      "torch.Size([3, 32, 32]) == 3 channels (RGB), 32x32 px\n"
     ]
    }
   ],
   "source": [
    "# Now each component contains the normalized RGB values of a tensor image and its label\n",
    "print(train_set[0], \"\\n\")\n",
    "tensor_image, label = train_set[0]\n",
    "print(tensor_image.size(), \"== 3 channels (RGB), 32x32 px\")\n",
    "#\tNote that the labels are indexes or positions of the following list (starting from \"0\"): airplane, automobile, bird, cat, deer, dog, frog, horse, ship, truck."
   ]
  },
  {
   "cell_type": "code",
   "execution_count": 7,
   "metadata": {},
   "outputs": [],
   "source": [
    "# Create a convolutional neural network\n",
    "class ConvNN(nn.Module): # nn.Module is a parent class included in torch.nn\n",
    "\t# Define the configuration of the NN's layers to be used in the forward method\n",
    "\tdef __init__(self):\n",
    "\t\tsuper().__init__() # Call the __init__ method of the parent class nn.Module\n",
    "\n",
    "\t\t# First convolutional layer\n",
    "\t\tself.conv1 = nn.Conv2d(3, 24, 5, stride = 1, padding = 2) # 3 input channels, 24 output channels/feature maps (each generated with a different kernel), 5x5 px kernel size\n",
    "\t\t#\tFeature maps' output size = (input size - kernel size + 2 * padding)/stride + 1\n",
    "\t\t#\tIf we want output size = input size -> padding = 2\n",
    "\t\t# Shape: (24, 32, 32) [24 output channels, size: 32x32 (input size = 32)]\n",
    "\t\t\n",
    "\t\t# Pooling layer to extract the most important features of the feature maps\n",
    "\t\tself.pool = nn.MaxPool2d(kernel_size = 2, stride = 2) # Shape: (24, 16, 16) [still 24 output channels, size: 16x16]  \n",
    "\n",
    "\t\t# 2nd convolutional layer\n",
    "\t\tself.conv2 = nn.Conv2d(24, 48, 5, stride = 1, padding = 0) # 24 input channels (the 24 feature maps), 48 output channels/feature maps, 5x5 px kernel size\n",
    "\t\t# Shape (after output size calculation): (48, 12, 12) [48 output channels, size: 12x12 px (input size = 16)] -> after another MaxPool: (48, 6, 6) -> Flatten (48 * 6 * 6) [number of input features]\n",
    "\n",
    "\t\t# Fully connected layers\n",
    "\t\tself.fc1 = nn.Linear(48 * 6 * 6, 120) # Input: shape after the flattening to 1 dimension; 120 neurons\n",
    "\t\tself.fc2 = nn.Linear(120, 100)\n",
    "\t\tself.fc3 = nn.Linear(100, 10) # 10 neurons at the end (the number of class names)\n",
    "\n",
    "\t\t# Dropout layers could be added to prevent overfitting\n",
    "\t\t#self.dropout = nn.Dropout(0.3) # Takes the values of the previous layer, sets 30% of them to 0. Usually applied after each intermediate fully connected layer\n",
    "\t\n",
    "\t# Define the forward method's steps\n",
    "\tdef forward(self, x): # x will be the input image at first\n",
    "\t\tx = self.pool(F.relu(self.conv1(x))) # 1st convolution layer -> ReLU activation function -> 1st MaxPool layer\n",
    "\t\tx = self.pool(F.relu(self.conv2(x))) # Same steps using the 2nd convolution layer\n",
    "\t\tx = torch.flatten(x, 1) # Flattening shape \"x\" to 1 dimension\n",
    "\t\tx = F.relu(self.fc1(x)) # Apply the ReLU activation function\n",
    "\t\tx = F.relu(self.fc2(x))\n",
    "\t\tx = self.fc3(x) # Do not apply any activation function because the loss function CrossEntropyLoss (below) already applies \"log softmax\" and, therefore, expects raw logits.\n",
    "\t\t#\tSoftmax and log softmax are well-suited for class classifications.\n",
    "\t\treturn x"
   ]
  },
  {
   "cell_type": "code",
   "execution_count": 8,
   "metadata": {},
   "outputs": [],
   "source": [
    "cnn = ConvNN().to(device) # Initialize the neural network ('cnn' \"becomes\" 'self' during the execution) and move it to the GPU\n",
    "# Define the loss function\n",
    "loss_ft = nn.CrossEntropyLoss()\n",
    "# Define the method for updating the weights and biases of the network based on the minimization of the loss function\n",
    "optimizer = optim.Adam(cnn.parameters(), lr = 0.001) # Small learning rate to ensure a stable convergence to a minimum"
   ]
  },
  {
   "cell_type": "code",
   "execution_count": 41,
   "metadata": {},
   "outputs": [
    {
     "name": "stdout",
     "output_type": "stream",
     "text": [
      "Training epoch 0...\n",
      "Average loss: 1.4011\n",
      "Training epoch 1...\n",
      "Average loss: 1.0141\n",
      "Training epoch 2...\n",
      "Average loss: 0.8521\n",
      "Training epoch 3...\n",
      "Average loss: 0.7409\n",
      "Training epoch 4...\n",
      "Average loss: 0.6551\n",
      "Training epoch 5...\n",
      "Average loss: 0.5836\n",
      "Training epoch 6...\n",
      "Average loss: 0.5173\n",
      "Training epoch 7...\n",
      "Average loss: 0.4595\n",
      "Training epoch 8...\n",
      "Average loss: 0.4092\n",
      "Training epoch 9...\n",
      "Average loss: 0.3604\n"
     ]
    }
   ],
   "source": [
    "# Training the neural network\n",
    "cnn.train() # Set the network to training mode (e.g. allows the correct functioning of dropout layers)\n",
    "for epoch in range(20):\n",
    "\tprint(f\"Training epoch {epoch}...\")\n",
    "\trunning_loss = 0.0\n",
    "\tfor data in train_loader:\n",
    "\t\tinput_images, labels = data # Data contains a batch of images and their corresponding labels (batch size is 32 as defined in train_loader above)\n",
    "\t\tinput_images, labels = input_images.to(device), labels.to(device)\n",
    "\t\toptimizer.zero_grad() # Reset the gradient's parameters for each batch\n",
    "\t\tpredictions = cnn(input_images) # Forward pass of the batch through the network to get the label predictions\n",
    "\t\tloss_ft_result = loss_ft(predictions, labels) # Calculate the loss between the predictions and the actual labels\n",
    "\t\tloss_ft_result.backward() # Compute the gradient for the loss function\n",
    "\t\toptimizer.step() # Update the weights and biases of the network based on the gradient calculations\n",
    "\t\trunning_loss = running_loss + loss_ft_result.item() # Transform loss to float and add it to the loss of the previous batches to calculate the accumulated loss for the epoch\n",
    "\tprint(f\"Average loss: {running_loss / len(train_loader):.4f}\") # Average loss with 4 decimal digits. Lower is better. len(train_loader) is the number of batches"
   ]
  },
  {
   "cell_type": "code",
   "execution_count": 42,
   "metadata": {},
   "outputs": [],
   "source": [
    "# Export the trained network's parameters\n",
    "torch.save(cnn.state_dict(), \"trained_cnn.pth\")"
   ]
  },
  {
   "cell_type": "code",
   "execution_count": null,
   "metadata": {},
   "outputs": [],
   "source": [
    "# In case we want to load some previous parameters instead of training the network again\n",
    "\n",
    "#cnn = ConvNN().to(device)\n",
    "#cnn.load_state_dict(torch.load(\"trained_cnn.pth\"))"
   ]
  },
  {
   "cell_type": "code",
   "execution_count": 36,
   "metadata": {},
   "outputs": [
    {
     "name": "stdout",
     "output_type": "stream",
     "text": [
      "Overall accuracy: 70.9%\n"
     ]
    }
   ],
   "source": [
    "# Evaluate the accuracy of the network\n",
    "correct = 0\n",
    "total = 0\n",
    "cnn.eval() # Set the network to evaluation mode\n",
    "with torch.no_grad(): # Run the network disabling the gradient computation\n",
    "\tfor data in test_loader: # Get batches of images and their labels from the test dataset\n",
    "\t\tinput_images, labels = data\n",
    "\t\tinput_images, labels = input_images.to(device), labels.to(device)\n",
    "\t\tpredictions = cnn(input_images)\n",
    "\t\t_, predicted = torch.max(predictions, dim = 1) # \"predictions\" is a 2D tensor (array) and each row contains the values of the 10 final neurons for each image.\n",
    "\t\t#\tTo access rows, dim must be 1.\n",
    "\t\t#\ttorch.max is used to get the max value of each row (the class with the most probability for each image).\n",
    "\t\t#\tThe output is: <tensor (array) with the max value for each row>, <tensor (array) with the position in each row of each max value>. We only want to know the class/label of the image (using the position in the row), so the first output is \"_\".\n",
    "\t\ttotal = total + labels.size(dim = 0) # Dimension 0 is the batch size. Each time a batch is processed, its number of images is added to the total number of analyzed images\n",
    "\t\tcorrect = correct + (predicted == labels).sum().item() # Compare the labels array from the batch with the array of predictions and add the number of labels that coincide.\n",
    "\t\t#\t\"True\" if the labels coincide and \"False\" if not.\n",
    "\t\t#\tConversion by .sum(): True -> 1, False -> 0, obtaining a tensor (array) of \"1s\" and \"0s\", which are added, returning a single number of correct answers.\n",
    "\t\t#\t.item() converts the tensor (int) into a common int\n",
    "accuracy = 100 * correct / total\n",
    "print(f\"Overall accuracy: {accuracy}%\")"
   ]
  },
  {
   "cell_type": "code",
   "execution_count": 84,
   "metadata": {},
   "outputs": [],
   "source": [
    "import matplotlib.pyplot as plt # Used for plotting images later on\n",
    "from PIL import Image # Used for loading images in different formats"
   ]
  },
  {
   "cell_type": "code",
   "execution_count": 52,
   "metadata": {},
   "outputs": [],
   "source": [
    "# Function to open normalized images with NumPy\n",
    "def tensor_to_numpy(img):\n",
    "\timg = img.cpu() * 0.5 + 0.5 # Unnormalize using the formula for normalization above: normalized value = (unnormalized value - mean)/SD.\n",
    "\t#\tTransfering the image to the CPU is needed to access it for plotting later on\n",
    "\tnpimg = img.numpy() # Convert tensor (image) into a NumPy array\n",
    "\tnpimg = np.transpose(npimg, (1, 2, 0)) # Converted tensor images return \"(channels, height, width)\", but libraries process this information in the opposite order -> transpose needed\n",
    "\treturn npimg"
   ]
  },
  {
   "cell_type": "code",
   "execution_count": 85,
   "metadata": {},
   "outputs": [],
   "source": [
    "# Open any image from a directory\n",
    "\n",
    "# Same transformation as before but resizing the images to 32x32\n",
    "new_transform = transforms.Compose([\n",
    "\ttransforms.Resize((32, 32)),\n",
    "\ttransforms.ToTensor(),\n",
    "\ttransforms.Normalize((0.5, 0.5, 0.5), (0.5, 0.5, 0.5))\n",
    "])\n",
    "\n",
    "# Function to load images from a path\n",
    "def load_image(image_path):\n",
    "\timage = Image.open(image_path)\n",
    "\timage = new_transform(image) # Apply the new transform to ensure external images match the dataset format\n",
    "\treturn image"
   ]
  },
  {
   "cell_type": "code",
   "execution_count": 90,
   "metadata": {},
   "outputs": [
    {
     "name": "stdout",
     "output_type": "stream",
     "text": [
      "----------------\n",
      "Images from CIFAR10 evaluation DATASET\n",
      "----------------\n",
      "\n"
     ]
    },
    {
     "data": {
      "image/png": "[encoded data removed]",
      "text/plain": [
       "<Figure size 100x100 with 1 Axes>"
      ]
     },
     "metadata": {},
     "output_type": "display_data"
    },
    {
     "name": "stdout",
     "output_type": "stream",
     "text": [
      "Label: frog\n",
      "Predicted label: frog\n"
     ]
    },
    {
     "data": {
      "image/png": "[encoded data removed]",
      "text/plain": [
       "<Figure size 100x100 with 1 Axes>"
      ]
     },
     "metadata": {},
     "output_type": "display_data"
    },
    {
     "name": "stdout",
     "output_type": "stream",
     "text": [
      "Label: bird\n",
      "Predicted label: bird\n",
      "\n",
      "----------------\n",
      "Images from PATH\n",
      "----------------\n",
      "\n"
     ]
    },
    {
     "data": {
      "image/png": "[encoded data removed]",
      "text/plain": [
       "<Figure size 100x100 with 1 Axes>"
      ]
     },
     "metadata": {},
     "output_type": "display_data"
    },
    {
     "name": "stdout",
     "output_type": "stream",
     "text": [
      "Predicted label: airplane\n"
     ]
    },
    {
     "data": {
      "image/png": "[encoded data removed]",
      "text/plain": [
       "<Figure size 100x100 with 1 Axes>"
      ]
     },
     "metadata": {},
     "output_type": "display_data"
    },
    {
     "name": "stdout",
     "output_type": "stream",
     "text": [
      "Predicted label: dog\n"
     ]
    }
   ],
   "source": [
    "# Test the neural network on two images from the test set\n",
    "\n",
    "# Define an array with the classes to access them\n",
    "class_names = [\"airplane\", \"automobile\", \"bird\", \"cat\", \"deer\", \"dog\", \"frog\", \"horse\", \"ship\", \"truck\"]\n",
    "\n",
    "# Crate an array with the paths of each image outside the dataset\n",
    "image_paths = ['test1.jpg', 'test2.jpg']\n",
    "\n",
    "# Extract two images from the test set\n",
    "image1, label1 = train_set[0]\n",
    "image2, label2 = train_set[42]\n",
    "\n",
    "# Create an array with the labels from the test set\n",
    "dataset_labels = [label1, label2]\n",
    "\n",
    "# Create an array with the image tensors\n",
    "image_tensors_array = [image1, image2]\n",
    "for path in image_paths:\n",
    "\texternal_image = load_image(path)\n",
    "\timage_tensors_array.append(external_image)\n",
    "\n",
    "# Make a batch with each image (since the network expects batches)\n",
    "for i in range(len(image_tensors_array)):\n",
    "    image_tensors_array[i] = image_tensors_array[i].unsqueeze(0)\n",
    "\n",
    "# Pass the images through the network\n",
    "cnn.eval()\n",
    "with torch.no_grad():\n",
    "\tfor i, image in enumerate(image_tensors_array):\n",
    "\t\tif i == 0:\n",
    "\t\t\tprint(\"----------------\\nImages from CIFAR10 evaluation DATASET\\n----------------\\n\")\n",
    "\t\tif i == 2:\n",
    "\t\t\tprint(\"\\n----------------\\nImages from PATH\\n----------------\\n\")\n",
    "\t\timage = image.to(device) # Transfer the image to the GPU\n",
    "\t\tprediction = cnn(image)\n",
    "\t\t_, predicted_label = torch.max(prediction, dim = 1)\n",
    "\n",
    "\t\t# Plot image with matplotlib\n",
    "\t\tfig, ax = plt.subplots(figsize = (1, 1), facecolor = \"none\")\n",
    "\t\tax.imshow(tensor_to_numpy(image.squeeze(0))) # Transform the batch with the tensor (image) to just a tensor (image) and convert it to a NumPy image and plot it\n",
    "\t\tax.axis('off')\n",
    "\t\tax.set_xticks([])\n",
    "\t\tax.set_yticks([])\n",
    "\t\tplt.show()\n",
    "\n",
    "\t\tif i < 2:\n",
    "\t\t\tprint(f\"Label: {class_names[dataset_labels[i]]}\")\n",
    "\t\tprint(f\"Predicted label: {class_names[predicted_label.item()]}\")"
   ]
  }
 ],
 "metadata": {
  "kernelspec": {
   "display_name": "PyTorch",
   "language": "python",
   "name": "pytorch"
  },
  "language_info": {
   "codemirror_mode": {
    "name": "ipython",
    "version": 3
   },
   "file_extension": ".py",
   "mimetype": "text/x-python",
   "name": "python",
   "nbconvert_exporter": "python",
   "pygments_lexer": "ipython3",
   "version": "3.11.9"
  }
 },
 "nbformat": 4,
 "nbformat_minor": 2
}
